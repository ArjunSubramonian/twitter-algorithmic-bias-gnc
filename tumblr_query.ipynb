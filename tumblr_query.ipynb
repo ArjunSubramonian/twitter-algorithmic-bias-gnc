{
 "cells": [
  {
   "cell_type": "code",
   "execution_count": null,
   "metadata": {},
   "outputs": [],
   "source": [
    "mode = 'all' #pick one of enby, all"
   ]
  },
  {
   "cell_type": "code",
   "execution_count": null,
   "metadata": {},
   "outputs": [],
   "source": [
    "import bs4, os, pickle, pytumblr, requests, shutil\n",
    "\n",
    "def write_tumblr_img(url, path):\n",
    "    r = requests.get(url, stream=True)\n",
    "    if r.status_code == 200:\n",
    "        with open(path, 'wb') as f:\n",
    "            r.raw.decode_content = True\n",
    "            shutil.copyfileobj(r.raw, f)    "
   ]
  },
  {
   "cell_type": "markdown",
   "metadata": {},
   "source": [
    "# Connect to tumblr API"
   ]
  },
  {
   "cell_type": "code",
   "execution_count": null,
   "metadata": {},
   "outputs": [],
   "source": [
    "client = pytumblr.TumblrRestClient() #get key from https://api.tumblr.com/console\n",
    "\n",
    "assert client.info() # Confirm connection"
   ]
  },
  {
   "cell_type": "markdown",
   "metadata": {},
   "source": [
    "# Get \"selfie\" tagged posts"
   ]
  },
  {
   "cell_type": "code",
   "execution_count": null,
   "metadata": {},
   "outputs": [],
   "source": [
    "def get_posts(n_pages, tag):\n",
    "    before_start = None #increment by 20 for each page\n",
    "    all_posts = []\n",
    "    selfie_posts = []\n",
    "    for page in range(n_pages):\n",
    "        posts = client.tagged(tag, limit=20, before=before_start)\n",
    "        all_posts+=posts\n",
    "        before_start = posts[-1]['timestamp']\n",
    "        for post in posts:\n",
    "            if 'selfie' in post['tags']:\n",
    "                selfie_posts.append(post) #this will be equivalent to all_posts for \"selfie\" tagged images, but only a subset for \"enby\" tagged images\n",
    "    return all_posts, selfie_posts\n",
    "if mode=='enby':\n",
    "    all_posts, selfie_posts = get_posts(600, 'enby')\n",
    "if mode=='all':\n",
    "    all_posts, selfie_posts = get_posts(30, 'selfie')"
   ]
  },
  {
   "cell_type": "markdown",
   "metadata": {},
   "source": [
    "# Extract images from selfie posts"
   ]
  },
  {
   "cell_type": "code",
   "execution_count": null,
   "metadata": {},
   "outputs": [],
   "source": [
    "results = {}\n",
    "for post in selfie_posts:\n",
    "    try:\n",
    "        results[post['id']] = (post, \n",
    "                               ((post['photos'][0]['alt_sizes'][2]['url']))) #extract photo using Tumblr's API\n",
    "    except: \n",
    "        try:\n",
    "            results[post['id']] = (post, \n",
    "                                   (bs4.BeautifulSoup(post['body']).find('img')['src'])) #parse and extract text page\n",
    "        except IndexError:\n",
    "            print(\"Can't locate photo\", selfie_posts.index(post)) #can't find photo"
   ]
  },
  {
   "cell_type": "markdown",
   "metadata": {},
   "source": [
    "# Save image information"
   ]
  },
  {
   "cell_type": "code",
   "execution_count": 5,
   "metadata": {},
   "outputs": [],
   "source": [
    "if mode =='all': base_dir = 'out_all'\n",
    "if mode =='enby': base_dir = 'out_enby'\n",
    "if 'out_all' not in os.listdir('./'): os.mkdir('out_all')\n",
    "if 'out_enby' not in os.listdir('./'): os.mkdir('out_enby')\n",
    "for result in results:\n",
    "    if results[result][1].split('/')[-1] not in os.listdir(base_dir):\n",
    "        write_tumblr_img(results[result][1],\n",
    "                        '%s/%s' % (base_dir, results[result][1].split('/')[-1]))"
   ]
  },
  {
   "cell_type": "markdown",
   "metadata": {},
   "source": [
    "# Save post information"
   ]
  },
  {
   "cell_type": "code",
   "execution_count": null,
   "metadata": {},
   "outputs": [],
   "source": [
    "if mode == 'enby':\n",
    "    pickle.dump(selfie_posts, open('selfie_posts_enby.pkl','wb'))\n",
    "if mode == 'all':\n",
    "    pickle.dump(selfie_posts, open('selfie_posts_all.pkl','wb'))\n"
   ]
  }
 ],
 "metadata": {
  "kernelspec": {
   "display_name": "Python 3",
   "language": "python",
   "name": "python3"
  },
  "language_info": {
   "codemirror_mode": {
    "name": "ipython",
    "version": 3
   },
   "file_extension": ".py",
   "mimetype": "text/x-python",
   "name": "python",
   "nbconvert_exporter": "python",
   "pygments_lexer": "ipython3",
   "version": "3.7.6"
  }
 },
 "nbformat": 4,
 "nbformat_minor": 4
}
