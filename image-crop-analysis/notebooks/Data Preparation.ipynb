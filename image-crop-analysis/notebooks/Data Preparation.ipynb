{
 "cells": [
  {
   "cell_type": "markdown",
   "metadata": {},
   "source": [
    "```\n",
    "Copyright 2021 Arjun Subramonian, Mike McKenna\n",
    "Adapted from notebook by Twitter, Inc.\n",
    "SPDX-License-Identifier: Apache-2.0\n",
    "```\n",
    "\n",
    "## Collect query data from Tumblr\n",
    "\n",
    "Run notebook: tumblr-data/tumblr_query.ipynb"
   ]
  },
  {
   "cell_type": "code",
   "execution_count": 1,
   "metadata": {},
   "outputs": [],
   "source": [
    "import sys\n",
    "import json\n",
    "from pathlib import Path\n",
    "import pandas as pd\n",
    "import os"
   ]
  },
  {
   "cell_type": "code",
   "execution_count": 2,
   "metadata": {},
   "outputs": [
    {
     "data": {
      "text/plain": [
       "True"
      ]
     },
     "execution_count": 2,
     "metadata": {},
     "output_type": "execute_result"
    }
   ],
   "source": [
    "HOME_DIR = Path(\"../\").expanduser()\n",
    "sys.path.append(str(HOME_DIR / \"src\"))\n",
    "data_dir = HOME_DIR / Path(\"./data/\")\n",
    "data_dir.exists()"
   ]
  },
  {
   "cell_type": "code",
   "execution_count": 3,
   "metadata": {},
   "outputs": [],
   "source": [
    "TUMBLR_IMAGE_ALL_DATA_DIR = '../../tumblr-scraper/out_all'\n",
    "TUMBLR_IMAGE_ALL_EXCLUDE = '../../tumblr-scraper/to_exclude_all.json'\n",
    "TUMBLR_IMAGE_ALL_EXCLUDE = json.load(open(TUMBLR_IMAGE_ALL_EXCLUDE))\n",
    "\n",
    "TUMBLR_IMAGE_ENBY_DATA_DIR = '../../tumblr-scraper/out_enby'\n",
    "TUMBLR_IMAGE_ENBY_EXCLUDE = '../../tumblr-scraper/to_exclude_enby.json'\n",
    "TUMBLR_IMAGE_ENBY_EXCLUDE = json.load(open(TUMBLR_IMAGE_ENBY_EXCLUDE))"
   ]
  },
  {
   "cell_type": "code",
   "execution_count": 4,
   "metadata": {},
   "outputs": [],
   "source": [
    "# Remove images without faces\n",
    "# for filename in TUMBLR_IMAGE_ALL_EXCLUDE:\n",
    "#     full_filename = TUMBLR_IMAGE_ALL_DATA_DIR + \"/\" + filename\n",
    "#     !rm {full_filename}"
   ]
  },
  {
   "cell_type": "code",
   "execution_count": 5,
   "metadata": {},
   "outputs": [],
   "source": [
    "# Remove images without faces\n",
    "# for filename in TUMBLR_IMAGE_ENBY_EXCLUDE:\n",
    "#     full_filename = TUMBLR_IMAGE_ENBY_DATA_DIR + \"/\" + filename\n",
    "#     !rm {full_filename}"
   ]
  },
  {
   "cell_type": "code",
   "execution_count": 6,
   "metadata": {},
   "outputs": [],
   "source": [
    "# Populate json with tumblr images\n",
    "tumblr_data = {\n",
    "  \"head\": {\n",
    "    \"vars\": [\n",
    "      \"human\",\n",
    "      \"image\",\n",
    "      \"sex_or_gender\",\n",
    "      \"ethnic_group\",\n",
    "      \"occupation\",\n",
    "      \"loc_aid\"\n",
    "    ]\n",
    "  },\n",
    "  \"results\": {\n",
    "    \"bindings\": []\n",
    "  }\n",
    "}\n",
    "\n",
    "for directory, exclude in [(TUMBLR_IMAGE_ALL_DATA_DIR, TUMBLR_IMAGE_ALL_EXCLUDE), (TUMBLR_IMAGE_ENBY_DATA_DIR, TUMBLR_IMAGE_ENBY_EXCLUDE)]:\n",
    "    for filename in os.listdir(directory):\n",
    "        if filename in exclude:\n",
    "            continue\n",
    "            \n",
    "        filename_without_ext = filename.split('.')[0]\n",
    "        tumblr_data[\"results\"][\"bindings\"] += [\n",
    "            {\n",
    "                \"human\": {\n",
    "                  \"type\": \"uri\",\n",
    "                  \"value\": filename_without_ext\n",
    "                },\n",
    "                \"image\": {\n",
    "                  \"type\": \"uri\",\n",
    "                  \"value\": filename\n",
    "                },\n",
    "                \"sex_or_gender\": {\n",
    "                  \"type\": \"uri\",\n",
    "                  \"value\": \"all\" if directory == TUMBLR_IMAGE_ALL_DATA_DIR else \"enby\"\n",
    "                },\n",
    "                \"ethnic_group\": {\n",
    "                  \"type\": \"uri\",\n",
    "                  \"value\": \"na\"\n",
    "                },\n",
    "                \"url\": filename\n",
    "            }\n",
    "        ]\n",
    "        \n",
    "\n",
    "# Create dataset with scraped tumblr images\n",
    "with open(data_dir / \"./dataset.json\", 'w') as fp:\n",
    "    json.dump(tumblr_data, fp)"
   ]
  },
  {
   "cell_type": "code",
   "execution_count": 7,
   "metadata": {},
   "outputs": [
    {
     "data": {
      "text/plain": [
       "882"
      ]
     },
     "execution_count": 7,
     "metadata": {},
     "output_type": "execute_result"
    }
   ],
   "source": [
    "with open(data_dir / \"./dataset.json\") as fp:\n",
    "    tumblr_data = json.load(fp)\n",
    "\n",
    "len(tumblr_data[\"results\"][\"bindings\"])"
   ]
  },
  {
   "cell_type": "code",
   "execution_count": 8,
   "metadata": {},
   "outputs": [
    {
     "data": {
      "text/plain": [
       "{'human': {'type': 'uri', 'value': 'f6131d7d4797a5930853a85e273ab780c612a7c3'},\n",
       " 'image': {'type': 'uri',\n",
       "  'value': 'f6131d7d4797a5930853a85e273ab780c612a7c3.jpg'},\n",
       " 'sex_or_gender': {'type': 'uri', 'value': 'all'},\n",
       " 'ethnic_group': {'type': 'uri', 'value': 'na'},\n",
       " 'url': 'f6131d7d4797a5930853a85e273ab780c612a7c3.jpg'}"
      ]
     },
     "execution_count": 8,
     "metadata": {},
     "output_type": "execute_result"
    }
   ],
   "source": [
    "tumblr_data[\"results\"][\"bindings\"][0]"
   ]
  },
  {
   "cell_type": "code",
   "execution_count": 9,
   "metadata": {},
   "outputs": [
    {
     "data": {
      "text/plain": [
       "dict_keys(['bindings'])"
      ]
     },
     "execution_count": 9,
     "metadata": {},
     "output_type": "execute_result"
    }
   ],
   "source": [
    "tumblr_data[\"results\"].keys()"
   ]
  },
  {
   "cell_type": "code",
   "execution_count": 10,
   "metadata": {},
   "outputs": [
    {
     "data": {
      "text/plain": [
       "dict_keys(['human', 'image', 'sex_or_gender', 'ethnic_group', 'url'])"
      ]
     },
     "execution_count": 10,
     "metadata": {},
     "output_type": "execute_result"
    }
   ],
   "source": [
    "tumblr_data[\"results\"][\"bindings\"][0].keys()"
   ]
  },
  {
   "cell_type": "code",
   "execution_count": 11,
   "metadata": {},
   "outputs": [
    {
     "data": {
      "text/plain": [
       "['f6131d7d4797a5930853a85e273ab780c612a7c3']"
      ]
     },
     "execution_count": 11,
     "metadata": {},
     "output_type": "execute_result"
    }
   ],
   "source": [
    "tumblr_data[\"results\"][\"bindings\"][0][\"human\"][\"value\"].rsplit(\"/\", 1)"
   ]
  },
  {
   "cell_type": "code",
   "execution_count": 12,
   "metadata": {},
   "outputs": [],
   "source": [
    "REQUIRED_COLS = [\n",
    "    \"human\",\n",
    "    \"image\",\n",
    "    \"sex_or_gender\",\n",
    "    \"ethnic_group\",\n",
    "]\n",
    "\n",
    "\n",
    "def parse_row(row):\n",
    "    data = {}\n",
    "    for c in REQUIRED_COLS:\n",
    "        value = row[c][\"value\"]\n",
    "        if row[c][\"type\"] == \"uri\":\n",
    "            value = value.rsplit(\"/\", 1)[-1]\n",
    "        data[c] = value\n",
    "    url = row[\"url\"]\n",
    "    extension = Path(url.rsplit(\"/\", 1)[-1]).suffix\n",
    "    local_path = f\"{data['human']}{extension}\"\n",
    "    data[\"url\"] = url\n",
    "    data[\"local_path\"] = local_path\n",
    "    return data"
   ]
  },
  {
   "cell_type": "code",
   "execution_count": 13,
   "metadata": {},
   "outputs": [
    {
     "data": {
      "text/plain": [
       "{'human': 'f6131d7d4797a5930853a85e273ab780c612a7c3',\n",
       " 'image': 'f6131d7d4797a5930853a85e273ab780c612a7c3.jpg',\n",
       " 'sex_or_gender': 'all',\n",
       " 'ethnic_group': 'na',\n",
       " 'url': 'f6131d7d4797a5930853a85e273ab780c612a7c3.jpg',\n",
       " 'local_path': 'f6131d7d4797a5930853a85e273ab780c612a7c3.jpg'}"
      ]
     },
     "execution_count": 13,
     "metadata": {},
     "output_type": "execute_result"
    }
   ],
   "source": [
    "parse_row(tumblr_data[\"results\"][\"bindings\"][0])"
   ]
  },
  {
   "cell_type": "code",
   "execution_count": 14,
   "metadata": {},
   "outputs": [
    {
     "data": {
      "text/html": [
       "<div>\n",
       "<style scoped>\n",
       "    .dataframe tbody tr th:only-of-type {\n",
       "        vertical-align: middle;\n",
       "    }\n",
       "\n",
       "    .dataframe tbody tr th {\n",
       "        vertical-align: top;\n",
       "    }\n",
       "\n",
       "    .dataframe thead th {\n",
       "        text-align: right;\n",
       "    }\n",
       "</style>\n",
       "<table border=\"1\" class=\"dataframe\">\n",
       "  <thead>\n",
       "    <tr style=\"text-align: right;\">\n",
       "      <th></th>\n",
       "      <th>human</th>\n",
       "      <th>image</th>\n",
       "      <th>sex_or_gender</th>\n",
       "      <th>ethnic_group</th>\n",
       "      <th>url</th>\n",
       "      <th>local_path</th>\n",
       "    </tr>\n",
       "  </thead>\n",
       "  <tbody>\n",
       "    <tr>\n",
       "      <th>0</th>\n",
       "      <td>f6131d7d4797a5930853a85e273ab780c612a7c3</td>\n",
       "      <td>f6131d7d4797a5930853a85e273ab780c612a7c3.jpg</td>\n",
       "      <td>all</td>\n",
       "      <td>na</td>\n",
       "      <td>f6131d7d4797a5930853a85e273ab780c612a7c3.jpg</td>\n",
       "      <td>f6131d7d4797a5930853a85e273ab780c612a7c3.jpg</td>\n",
       "    </tr>\n",
       "    <tr>\n",
       "      <th>1</th>\n",
       "      <td>69fee9fa618dcbd6b46e1f7cfb9a20d2fde1ce51</td>\n",
       "      <td>69fee9fa618dcbd6b46e1f7cfb9a20d2fde1ce51.jpg</td>\n",
       "      <td>all</td>\n",
       "      <td>na</td>\n",
       "      <td>69fee9fa618dcbd6b46e1f7cfb9a20d2fde1ce51.jpg</td>\n",
       "      <td>69fee9fa618dcbd6b46e1f7cfb9a20d2fde1ce51.jpg</td>\n",
       "    </tr>\n",
       "    <tr>\n",
       "      <th>2</th>\n",
       "      <td>da317181505d7bebdf46d843f8328e0ceb5697f3</td>\n",
       "      <td>da317181505d7bebdf46d843f8328e0ceb5697f3.jpg</td>\n",
       "      <td>all</td>\n",
       "      <td>na</td>\n",
       "      <td>da317181505d7bebdf46d843f8328e0ceb5697f3.jpg</td>\n",
       "      <td>da317181505d7bebdf46d843f8328e0ceb5697f3.jpg</td>\n",
       "    </tr>\n",
       "    <tr>\n",
       "      <th>3</th>\n",
       "      <td>3803a5d80814f5b54e1f6562cae369a414a9657a</td>\n",
       "      <td>3803a5d80814f5b54e1f6562cae369a414a9657a.jpg</td>\n",
       "      <td>all</td>\n",
       "      <td>na</td>\n",
       "      <td>3803a5d80814f5b54e1f6562cae369a414a9657a.jpg</td>\n",
       "      <td>3803a5d80814f5b54e1f6562cae369a414a9657a.jpg</td>\n",
       "    </tr>\n",
       "    <tr>\n",
       "      <th>4</th>\n",
       "      <td>e0f5f893f8695e3dbd5809b796d7685366b43af2</td>\n",
       "      <td>e0f5f893f8695e3dbd5809b796d7685366b43af2.jpg</td>\n",
       "      <td>all</td>\n",
       "      <td>na</td>\n",
       "      <td>e0f5f893f8695e3dbd5809b796d7685366b43af2.jpg</td>\n",
       "      <td>e0f5f893f8695e3dbd5809b796d7685366b43af2.jpg</td>\n",
       "    </tr>\n",
       "  </tbody>\n",
       "</table>\n",
       "</div>"
      ],
      "text/plain": [
       "                                      human  \\\n",
       "0  f6131d7d4797a5930853a85e273ab780c612a7c3   \n",
       "1  69fee9fa618dcbd6b46e1f7cfb9a20d2fde1ce51   \n",
       "2  da317181505d7bebdf46d843f8328e0ceb5697f3   \n",
       "3  3803a5d80814f5b54e1f6562cae369a414a9657a   \n",
       "4  e0f5f893f8695e3dbd5809b796d7685366b43af2   \n",
       "\n",
       "                                          image sex_or_gender ethnic_group  \\\n",
       "0  f6131d7d4797a5930853a85e273ab780c612a7c3.jpg           all           na   \n",
       "1  69fee9fa618dcbd6b46e1f7cfb9a20d2fde1ce51.jpg           all           na   \n",
       "2  da317181505d7bebdf46d843f8328e0ceb5697f3.jpg           all           na   \n",
       "3  3803a5d80814f5b54e1f6562cae369a414a9657a.jpg           all           na   \n",
       "4  e0f5f893f8695e3dbd5809b796d7685366b43af2.jpg           all           na   \n",
       "\n",
       "                                            url  \\\n",
       "0  f6131d7d4797a5930853a85e273ab780c612a7c3.jpg   \n",
       "1  69fee9fa618dcbd6b46e1f7cfb9a20d2fde1ce51.jpg   \n",
       "2  da317181505d7bebdf46d843f8328e0ceb5697f3.jpg   \n",
       "3  3803a5d80814f5b54e1f6562cae369a414a9657a.jpg   \n",
       "4  e0f5f893f8695e3dbd5809b796d7685366b43af2.jpg   \n",
       "\n",
       "                                     local_path  \n",
       "0  f6131d7d4797a5930853a85e273ab780c612a7c3.jpg  \n",
       "1  69fee9fa618dcbd6b46e1f7cfb9a20d2fde1ce51.jpg  \n",
       "2  da317181505d7bebdf46d843f8328e0ceb5697f3.jpg  \n",
       "3  3803a5d80814f5b54e1f6562cae369a414a9657a.jpg  \n",
       "4  e0f5f893f8695e3dbd5809b796d7685366b43af2.jpg  "
      ]
     },
     "execution_count": 14,
     "metadata": {},
     "output_type": "execute_result"
    }
   ],
   "source": [
    "df = pd.DataFrame([parse_row(row) for row in tumblr_data[\"results\"][\"bindings\"]])\n",
    "df.head()"
   ]
  },
  {
   "cell_type": "markdown",
   "metadata": {},
   "source": [
    "# Gather images for all rows in `df`\n",
    "\n",
    "Put the required images for each tumblr id in `df` into the `OUTPUT_DIR` using the file name specified via the column `local_path`"
   ]
  },
  {
   "cell_type": "code",
   "execution_count": 15,
   "metadata": {},
   "outputs": [
    {
     "name": "stdout",
     "output_type": "stream",
     "text": [
      "zsh:1: no matches found: ../data/images/*\r\n"
     ]
    },
    {
     "data": {
      "text/plain": [
       "True    882\n",
       "Name: file_exists, dtype: int64"
      ]
     },
     "execution_count": 15,
     "metadata": {},
     "output_type": "execute_result"
    }
   ],
   "source": [
    "OUTPUT_DIR = Path(data_dir / \"./images/\")\n",
    "OUTPUT_DIR.mkdir(parents=True, exist_ok=True)\n",
    "\n",
    "!rm -rf {OUTPUT_DIR / \"*\"}\n",
    "\n",
    "for filename in os.listdir(TUMBLR_IMAGE_ALL_DATA_DIR):\n",
    "    full_filename = TUMBLR_IMAGE_ALL_DATA_DIR + \"/\" + filename\n",
    "    !cp {full_filename} {OUTPUT_DIR}\n",
    "    \n",
    "for filename in os.listdir(TUMBLR_IMAGE_ENBY_DATA_DIR):\n",
    "    full_filename = TUMBLR_IMAGE_ENBY_DATA_DIR + \"/\" + filename\n",
    "    !cp {full_filename} {OUTPUT_DIR}\n",
    "\n",
    "df[\"file_exists\"] = df[\"local_path\"].apply(lambda x: (OUTPUT_DIR / x).exists())\n",
    "df.file_exists.value_counts()"
   ]
  },
  {
   "cell_type": "code",
   "execution_count": 16,
   "metadata": {},
   "outputs": [],
   "source": [
    "# df.file_exists.value_counts()[False]"
   ]
  },
  {
   "cell_type": "markdown",
   "metadata": {},
   "source": [
    "## After putting all images in the folder run the next cell to update the dataframe with file status"
   ]
  },
  {
   "cell_type": "code",
   "execution_count": 17,
   "metadata": {},
   "outputs": [],
   "source": [
    "df[\"file_exists\"] = df[\"local_path\"].apply(lambda x: (OUTPUT_DIR / x).exists())\n",
    "# df.file_exists.value_counts()[False]"
   ]
  },
  {
   "cell_type": "code",
   "execution_count": 18,
   "metadata": {},
   "outputs": [
    {
     "data": {
      "text/plain": [
       "882"
      ]
     },
     "execution_count": 18,
     "metadata": {},
     "output_type": "execute_result"
    }
   ],
   "source": [
    "len(list(OUTPUT_DIR.glob(\"./*\")))"
   ]
  },
  {
   "cell_type": "code",
   "execution_count": 19,
   "metadata": {},
   "outputs": [
    {
     "data": {
      "text/plain": [
       "True    882\n",
       "Name: file_exists, dtype: int64"
      ]
     },
     "execution_count": 19,
     "metadata": {},
     "output_type": "execute_result"
    }
   ],
   "source": [
    "df.file_exists.value_counts()"
   ]
  },
  {
   "cell_type": "code",
   "execution_count": 20,
   "metadata": {},
   "outputs": [
    {
     "data": {
      "text/plain": [
       "na    882\n",
       "Name: ethnic_group, dtype: int64"
      ]
     },
     "execution_count": 20,
     "metadata": {},
     "output_type": "execute_result"
    }
   ],
   "source": [
    "df[\"ethnic_group\"].value_counts()"
   ]
  },
  {
   "cell_type": "code",
   "execution_count": 21,
   "metadata": {},
   "outputs": [],
   "source": [
    "df.to_csv(data_dir / \"./dataset.tsv\", sep=\"\\t\", index=False)"
   ]
  },
  {
   "cell_type": "code",
   "execution_count": null,
   "metadata": {},
   "outputs": [],
   "source": []
  }
 ],
 "metadata": {
  "kernelspec": {
   "display_name": "image-crop-analysis",
   "language": "python",
   "name": "image-crop-analysis"
  },
  "language_info": {
   "codemirror_mode": {
    "name": "ipython",
    "version": 3
   },
   "file_extension": ".py",
   "mimetype": "text/x-python",
   "name": "python",
   "nbconvert_exporter": "python",
   "pygments_lexer": "ipython3",
   "version": "3.9.6"
  }
 },
 "nbformat": 4,
 "nbformat_minor": 4
}
